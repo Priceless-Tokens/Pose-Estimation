{
 "cells": [
  {
   "cell_type": "code",
   "execution_count": null,
   "metadata": {},
   "outputs": [],
   "source": [
    "import cv2\n",
    "import numpy as np\n",
    "\n",
    "video1 = \"video1.mp4\""
   ]
  },
  {
   "cell_type": "code",
   "execution_count": null,
   "metadata": {},
   "outputs": [],
   "source": [
    "cap = cv2.VideoCapture(video1) #Creating the object of the VideoCapture and read the input file\n",
    "  \n",
    "\n",
    "if not cap.isOpened(): # Give a error message\n",
    "    print(\"Error opening Video File.\")\n",
    "try:\n",
    "    while True: # Read the entire file until it is completed \n",
    "        # Capture frame-by-frame\n",
    "        ret, frame = cap.read()\n",
    "        cv2.imshow('frame',frame) # Display the resulting frame\n",
    "\n",
    "        if cv2.waitKey(24) & 0xFF == ord('q'): # Press Q on keyboard to exit\n",
    "            break\n",
    "\n",
    "        # if frame is read correctly, ret is True\n",
    "        if not ret:\n",
    "            print(\"Can't retrieve frame - stream may have ended. Exiting..\")\n",
    "            break\n",
    "except:\n",
    "    print(\"Video has ended.\")\n",
    "\n",
    "\n",
    "# When everything done, release the capture\n",
    "cap.release()\n",
    "cv2.destroyAllWindows() # Closes all the frames "
   ]
  }
 ],
 "metadata": {
  "language_info": {
   "name": "python"
  }
 },
 "nbformat": 4,
 "nbformat_minor": 2
}
