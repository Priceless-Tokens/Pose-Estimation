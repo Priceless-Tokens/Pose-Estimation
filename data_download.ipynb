{
 "cells": [
  {
   "cell_type": "markdown",
   "metadata": {},
   "source": [
    "This program saves each frame in png format and x,y,z coordinates as separate csv files."
   ]
  },
  {
   "cell_type": "markdown",
   "metadata": {},
   "source": [
    "# Import Dependencies and Video"
   ]
  },
  {
   "cell_type": "code",
   "execution_count": 4,
   "metadata": {},
   "outputs": [],
   "source": [
    "import cv2\n",
    "import mediapipe as mp\n",
    "import numpy as np\n",
    "import pandas as pd\n",
    "import csv\n",
    "mp_drawing = mp.solutions.drawing_utils\n",
    "mp_pose = mp.solutions.pose\n",
    "\n",
    "video1 = \"video1.mp4\"\n"
   ]
  },
  {
   "cell_type": "code",
   "execution_count": 6,
   "metadata": {},
   "outputs": [
    {
     "name": "stdout",
     "output_type": "stream",
     "text": [
      "Can't retrieve frame - stream may have ended. Exiting..\n"
     ]
    }
   ],
   "source": [
    "cap = cv2.VideoCapture(video1) #Creating the object of the VideoCapture and read the input file\n",
    "FolderPath = \"C:/Users/Ann Maria/Documents/ML programs/Pose Estimation/frame_and_xyz_data\" #folder path to store data\n",
    "  \n",
    "with mp_pose.Pose(min_detection_confidence=0.5, min_tracking_confidence=0.5) as pose:\n",
    "    if not cap.isOpened(): # Give a error message\n",
    "        print(\"Error opening Video File.\")\n",
    "    try:\n",
    "        ret, frame = cap.read()\n",
    "        count = 0\n",
    "        while True: # Read the entire file until it is completed \n",
    "            # Capture frame-by-frame\n",
    "            # Recolor image to RGB\n",
    "            image = cv2.cvtColor(frame, cv2.COLOR_BGR2RGB)\n",
    "            image.flags.writeable = False\n",
    "        \n",
    "            # Make detection\n",
    "            results = pose.process(image)\n",
    "            \n",
    "            # Recolor back to BGR\n",
    "            image.flags.writeable = True\n",
    "            image = cv2.cvtColor(image, cv2.COLOR_RGB2BGR)\n",
    "\n",
    "            try:\n",
    "                landmarks = results.pose_landmarks.landmark\n",
    "                #saving x,y,z coordinates to separate csv files\n",
    "                np.savetxt(f\"{FolderPath}/Frame{count}.csv\",landmarks, delimiter =\", \",fmt ='% s')\n",
    "\n",
    "            except:\n",
    "                pass            \n",
    "            \n",
    "            # Render detections\n",
    "            mp_drawing.draw_landmarks(image, results.pose_landmarks, mp_pose.POSE_CONNECTIONS,\n",
    "                                    mp_drawing.DrawingSpec(color=(245,117,66), thickness=2, circle_radius=2), \n",
    "                                    mp_drawing.DrawingSpec(color=(245,66,230), thickness=2, circle_radius=2) \n",
    "                                    )       \n",
    "            #saving png for each frame  \n",
    "            cv2.imwrite(FolderPath+\"/Frame%d.png\" %count,image)\n",
    "            count+=1\n",
    "            ret, frame = cap.read()\n",
    "            cv2.imshow('frame',image) # Display the resulting frame\n",
    "\n",
    "            if cv2.waitKey(24) & 0xFF == ord('q'): # Press Q on keyboard to exit\n",
    "                break\n",
    "\n",
    "            # if frame is read correctly, ret is True\n",
    "            if not ret:\n",
    "                print(\"Can't retrieve frame - stream may have ended. Exiting..\")\n",
    "                break\n",
    "    except:\n",
    "        print(\"Video has ended.\")\n",
    "\n",
    "\n",
    "    # When everything done, release the capture\n",
    "    cap.release()\n",
    "    cv2.destroyAllWindows() # Closes all the frames "
   ]
  }
 ],
 "metadata": {
  "kernelspec": {
   "display_name": ".venv",
   "language": "python",
   "name": "python3"
  },
  "language_info": {
   "codemirror_mode": {
    "name": "ipython",
    "version": 3
   },
   "file_extension": ".py",
   "mimetype": "text/x-python",
   "name": "python",
   "nbconvert_exporter": "python",
   "pygments_lexer": "ipython3",
   "version": "3.9.12"
  }
 },
 "nbformat": 4,
 "nbformat_minor": 2
}
